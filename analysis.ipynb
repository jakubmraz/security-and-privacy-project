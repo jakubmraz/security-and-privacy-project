{
 "cells": [
  {
   "cell_type": "markdown",
   "metadata": {},
   "source": [
    "1. Separate the Data \n",
    "\n",
    "\n",
    "Survey Data: This is your baseline. It represents what voters said their preferences were.\n",
    "Election Results: Separate the electronic votes from the polling station votes to analyze each type of voting independently.\n",
    "\n",
    "Let's load the data."
   ]
  },
  {
   "cell_type": "code",
   "execution_count": 22,
   "metadata": {},
   "outputs": [],
   "source": [
    "import pandas as pd\n",
    "\n",
    "private_data = pd.read_excel(r'data/new/synthetic_dataD.xlsx')\n",
    "public_data_register = pd.read_excel(r'data/old/public_data_registerD.xlsx')\n",
    "public_data_results = pd.read_excel(r'data/old/public_data_resultsD.xlsx')"
   ]
  },
  {
   "cell_type": "markdown",
   "metadata": {},
   "source": [
    "\n",
    "2. Organize Data for Comparison\n",
    "\n",
    "Create tables showing the percentage or count of votes for each party in:\n",
    "\n",
    "The survey data\n",
    "\n",
    "The election results for electronic votes\n",
    "\n",
    "The election results for polling station votes\n",
    "\n"
   ]
  },
  {
   "cell_type": "code",
   "execution_count": 23,
   "metadata": {},
   "outputs": [
    {
     "name": "stdout",
     "output_type": "stream",
     "text": [
      "party  Green  Red  Invalid vote\n",
      "count    181  113             6\n",
      "\n",
      "\n",
      "            Red  Green  Invalid vote  Total\n",
      "Unnamed: 0                                 \n",
      "electronic  107    199             7    313\n",
      "Total       386    630            20   1036\n",
      "paper       279    431            13    723\n",
      "\n",
      "\n",
      "Index(['electronic', 'Total', 'paper'], dtype='object', name='Unnamed: 0')\n"
     ]
    },
    {
     "name": "stderr",
     "output_type": "stream",
     "text": [
      "C:\\Users\\skrbj\\AppData\\Local\\Temp\\ipykernel_6948\\3118264266.py:15: SettingWithCopyWarning: \n",
      "A value is trying to be set on a copy of a slice from a DataFrame\n",
      "\n",
      "See the caveats in the documentation: https://pandas.pydata.org/pandas-docs/stable/user_guide/indexing.html#returning-a-view-versus-a-copy\n",
      "  public_data_totals.loc['Paper'] = public_data_totals.loc['Total'].apply(int) - public_data_totals.loc['E-votes'].apply(int)\n",
      "C:\\Users\\skrbj\\AppData\\Local\\Temp\\ipykernel_6948\\3118264266.py:26: SettingWithCopyWarning: \n",
      "A value is trying to be set on a copy of a slice from a DataFrame\n",
      "\n",
      "See the caveats in the documentation: https://pandas.pydata.org/pandas-docs/stable/user_guide/indexing.html#returning-a-view-versus-a-copy\n",
      "  public_data_totals.rename(columns={\n",
      "C:\\Users\\skrbj\\AppData\\Local\\Temp\\ipykernel_6948\\3118264266.py:31: SettingWithCopyWarning: \n",
      "A value is trying to be set on a copy of a slice from a DataFrame\n",
      "\n",
      "See the caveats in the documentation: https://pandas.pydata.org/pandas-docs/stable/user_guide/indexing.html#returning-a-view-versus-a-copy\n",
      "  public_data_totals.rename(index={'E-votes':'electronic','Total_row':'count', 'Paper':'paper'}, inplace=True)\n"
     ]
    }
   ],
   "source": [
    "private_totals = private_data['party'].value_counts()\n",
    "\n",
    "# Get the total amount of votes\n",
    "public_data_totals = public_data_results.tail(2)\n",
    "\n",
    "# Rename the index to match the private data\n",
    "public_data_totals.set_index('Unnamed: 0', inplace=True)\n",
    "\n",
    "\n",
    "\n",
    "\n",
    "\n",
    "\n",
    "# Calculate the amount of paper votes\n",
    "public_data_totals.loc['Paper'] = public_data_totals.loc['Total'].apply(int) - public_data_totals.loc['E-votes'].apply(int)\n",
    "\n",
    "# Ensure private_totals is a DataFrame and transpose it to match the public data\n",
    "private_totals = private_totals.to_frame().transpose()\n",
    "\n",
    "print(private_totals)\n",
    "print('\\n')\n",
    "\n",
    "\n",
    "\n",
    "\n",
    "public_data_totals.rename(columns={\n",
    "\n",
    "    'Invalid ballots': 'Invalid vote'\n",
    "}, inplace=True)\n",
    "\n",
    "public_data_totals.rename(index={'E-votes':'electronic','Total_row':'count', 'Paper':'paper'}, inplace=True)\n",
    "\n",
    "# Drop the 'Unnamed: 0' row when reading the data\n",
    "#public_data_totals.drop(index='Unnamed: 0')\n",
    "\n",
    "# Rename the index to match the private data\n",
    "#public_data_totals.index = ['electronic','count', 'paper']\n",
    "\n",
    "print(public_data_totals)\n",
    "print('\\n')\n",
    "print(public_data_totals.index)"
   ]
  },
  {
   "cell_type": "code",
   "execution_count": 24,
   "metadata": {},
   "outputs": [
    {
     "name": "stdout",
     "output_type": "stream",
     "text": [
      "           Green  Red Invalid vote Total\n",
      "paper        123   76            5   204\n",
      "electronic    58   37            1    96\n",
      "count        181  113            6   300\n"
     ]
    }
   ],
   "source": [
    "# Initialize the private_totals DataFrame with party names\n",
    "private_totals = pd.DataFrame(index=['paper', 'electronic'], columns=['Green', 'Red', 'Invalid vote'])\n",
    "\n",
    "# Calculate counts for electronic votes (evote == 1)\n",
    "for party in ['Green', 'Red', 'Invalid vote']:\n",
    "    private_totals.loc['electronic', party] = private_data.loc[(private_data['evote'] == 1) & (private_data['party'] == party), 'party'].count()\n",
    "\n",
    "# Calculate counts for paper votes (evote == 0)\n",
    "for party in ['Green', 'Red', 'Invalid vote']:\n",
    "    private_totals.loc['paper', party] = private_data.loc[(private_data['evote'] == 0) & (private_data['party'] == party), 'party'].count()\n",
    "\n",
    "# Add a count row for totals\n",
    "private_totals.loc['count'] = private_totals.sum()\n",
    "\n",
    "# Add a total row for each party\n",
    "private_totals['Total'] = private_totals.sum(axis=1)\n",
    "\n",
    "# Display the resulting DataFrame\n",
    "print(private_totals)"
   ]
  },
  {
   "cell_type": "markdown",
   "metadata": {},
   "source": [
    "\n",
    "3. Choose a Statistical Test\n",
    "\n",
    "Since you’re comparing categorical data (party preference distributions), a Chi-Square test of independence is a good option.\n",
    "Chi-Square Test: This test will help you see if there are statistically significant differences in political preferences between:\n",
    "Survey vs. Electronic Votes\n",
    "Survey vs. Polling Station Votes\n",
    "Each of these comparisons will show if the preferences in the survey align with the actual votes or if there are notable differences.\n"
   ]
  },
  {
   "cell_type": "code",
   "execution_count": 25,
   "metadata": {},
   "outputs": [
    {
     "name": "stdout",
     "output_type": "stream",
     "text": [
      "Chi-Square Statistic: 2.6360064238125998\n",
      "P-Value: 0.8529466453985117\n",
      "T-Test for Green:\n",
      "T-Statistic: -1.863583985329083\n",
      "P-Value: 0.20340345750551414\n",
      "\n",
      "T-Test for Red:\n",
      "T-Statistic: -1.5479165519576517\n",
      "P-Value: 0.2617279153660449\n",
      "\n",
      "T-Test for Invalid vote:\n",
      "T-Statistic: -1.9414506867883021\n",
      "P-Value: 0.19170962313452386\n",
      "\n"
     ]
    }
   ],
   "source": [
    "from scipy.stats import chi2_contingency\n",
    "from scipy.stats import ttest_ind\n",
    "\n",
    "# Create a contingency table for the Chi-Square test\n",
    "contingency_table = pd.concat([private_totals.loc[['paper', 'electronic'], ['Green', 'Red', 'Invalid vote']],\n",
    "                               public_data_totals.loc[['paper', 'electronic'], ['Green', 'Red', 'Invalid vote']]])\n",
    "\n",
    "# Perform the Chi-Square test\n",
    "chi2, p, dof, expected = chi2_contingency(contingency_table)\n",
    "\n",
    "# Print the results\n",
    "print(f\"Chi-Square Statistic: {chi2}\")\n",
    "print(f\"P-Value: {p}\")\n",
    "\n",
    "# Perform t-test for each party\n",
    "for party in ['Green', 'Red', 'Invalid vote']:\n",
    "    t_stat, p_val = ttest_ind(private_totals.loc[['paper', 'electronic'], party].astype(int),\n",
    "                              public_data_totals.loc[['paper', 'electronic'], party].astype(int))\n",
    "    print(f\"T-Test for {party}:\")\n",
    "    print(f\"T-Statistic: {t_stat}\")\n",
    "    print(f\"P-Value: {p_val}\\n\")"
   ]
  },
  {
   "cell_type": "markdown",
   "metadata": {},
   "source": [
    "\n",
    "\n",
    "4. Interpret the Results\n",
    "\n",
    "If the p-value from your Chi-Square test is less than 0.05, it means there’s a statistically significant difference in preferences between the groups.\n",
    "If there’s a significant difference, it could indicate a possible manipulation or other factors influencing the results."
   ]
  },
  {
   "cell_type": "markdown",
   "metadata": {},
   "source": [
    "### Interpretation of Results\n",
    "\n",
    "#### Chi-Square Test\n",
    "- **Chi-Square Statistic**: 6.360299944406317\n",
    "- **P-Value**: 0.3840618947439205\n",
    "\n",
    "The p-value from the Chi-Square test is greater than 0.05, indicating that there is no statistically significant difference in preferences between the groups.\n",
    "\n",
    "#### T-Tests\n",
    "- **T-Test for Green**:\n",
    "    - **T-Statistic**: -2.1694171309207846\n",
    "    - **P-Value**: 0.16227922122515373\n",
    "\n",
    "- **T-Test for Red**:\n",
    "    - **T-Statistic**: -1.7757517924317536\n",
    "    - **P-Value**: 0.2177604255759461\n",
    "\n",
    "- **T-Test for Invalid vote**:\n",
    "    - **T-Statistic**: -2.5298221281347035\n",
    "    - **P-Value**: 0.12712843905603044\n",
    "\n",
    "All p-values from the T-Tests are greater than 0.05, indicating that there are no statistically significant differences in the counts for each party between the survey data and the election results.\n",
    "\n",
    "### Conclusion\n",
    "Based on the Chi-Square test and T-Tests, there are no statistically significant differences in political preferences between the survey data and the election results. This suggests that the survey results align with the actual votes, and there is no evidence of manipulation or other factors influencing the results."
   ]
  },
  {
   "cell_type": "markdown",
   "metadata": {},
   "source": [
    "Private Data:\n",
    "Chi-Square Statistic: 6.360299944406317\n",
    "P-Value: 0.3840618947439205\n",
    "T-Test for Green:\n",
    "T-Statistic: -2.1694171309207846\n",
    "P-Value: 0.16227922122515373\n",
    "\n",
    "T-Test for Red:\n",
    "T-Statistic: -1.7757517924317536\n",
    "P-Value: 0.2177604255759461\n",
    "\n",
    "T-Test for Invalid vote:\n",
    "T-Statistic: -2.5298221281347035\n",
    "P-Value: 0.12712843905603044\n",
    "\n",
    "\n",
    "Synthetic data:\n",
    "Chi-Square Statistic: 2.6360064238125998\n",
    "P-Value: 0.8529466453985117\n",
    "T-Test for Green:\n",
    "T-Statistic: -1.863583985329083\n",
    "P-Value: 0.20340345750551414\n",
    "\n",
    "T-Test for Red:\n",
    "T-Statistic: -1.5479165519576517\n",
    "P-Value: 0.2617279153660449\n",
    "\n",
    "T-Test for Invalid vote:\n",
    "T-Statistic: -1.9414506867883021\n",
    "P-Value: 0.19170962313452386"
   ]
  },
  {
   "cell_type": "code",
   "execution_count": null,
   "metadata": {},
   "outputs": [],
   "source": []
  },
  {
   "cell_type": "code",
   "execution_count": null,
   "metadata": {},
   "outputs": [],
   "source": []
  }
 ],
 "metadata": {
  "kernelspec": {
   "display_name": "Python 3",
   "language": "python",
   "name": "python3"
  },
  "language_info": {
   "codemirror_mode": {
    "name": "ipython",
    "version": 3
   },
   "file_extension": ".py",
   "mimetype": "text/x-python",
   "name": "python",
   "nbconvert_exporter": "python",
   "pygments_lexer": "ipython3",
   "version": "3.11.9"
  }
 },
 "nbformat": 4,
 "nbformat_minor": 2
}
