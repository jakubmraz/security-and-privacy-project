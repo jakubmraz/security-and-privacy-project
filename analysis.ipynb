{
 "cells": [
  {
   "cell_type": "markdown",
   "metadata": {},
   "source": [
    "1. Separate the Data \n",
    "\n",
    "\n",
    "Survey Data: This is your baseline. It represents what voters said their preferences were.\n",
    "Election Results: Separate the electronic votes from the polling station votes to analyze each type of voting independently.\n",
    "\n",
    "Let's load the data."
   ]
  },
  {
   "cell_type": "code",
   "execution_count": 56,
   "metadata": {},
   "outputs": [],
   "source": [
    "import pandas as pd\n",
    "\n",
    "private_data = pd.read_excel('private_dataD.xlsx')\n",
    "public_data_register = pd.read_excel('public_data_registerD.xlsx')\n",
    "public_data_results = pd.read_excel('public_data_resultsD.xlsx')"
   ]
  },
  {
   "cell_type": "markdown",
   "metadata": {},
   "source": [
    "\n",
    "2. Organize Data for Comparison\n",
    "\n",
    "Create tables showing the percentage or count of votes for each party in:\n",
    "\n",
    "The survey data\n",
    "\n",
    "The election results for electronic votes\n",
    "\n",
    "The election results for polling station votes\n",
    "\n"
   ]
  },
  {
   "cell_type": "code",
   "execution_count": 96,
   "metadata": {},
   "outputs": [
    {
     "name": "stdout",
     "output_type": "stream",
     "text": [
      "party  Green  Red  Invalid vote\n",
      "count    121   75             4\n",
      "\n",
      "\n",
      "            Red  Green  Invalid vote  Total\n",
      "Unnamed: 0                                 \n",
      "electronic  107    199             7    313\n",
      "count       386    630            20   1036\n",
      "paper       279    431            13    723\n",
      "\n",
      "\n",
      "Index(['electronic', 'count', 'paper'], dtype='object', name='Unnamed: 0')\n"
     ]
    },
    {
     "name": "stderr",
     "output_type": "stream",
     "text": [
      "C:\\Users\\skrbj\\AppData\\Local\\Temp\\ipykernel_27080\\3761037193.py:15: SettingWithCopyWarning: \n",
      "A value is trying to be set on a copy of a slice from a DataFrame\n",
      "\n",
      "See the caveats in the documentation: https://pandas.pydata.org/pandas-docs/stable/user_guide/indexing.html#returning-a-view-versus-a-copy\n",
      "  public_data_totals.loc['Paper'] = public_data_totals.loc['Total_row'].apply(int) - public_data_totals.loc['E-votes'].apply(int)\n",
      "C:\\Users\\skrbj\\AppData\\Local\\Temp\\ipykernel_27080\\3761037193.py:26: SettingWithCopyWarning: \n",
      "A value is trying to be set on a copy of a slice from a DataFrame\n",
      "\n",
      "See the caveats in the documentation: https://pandas.pydata.org/pandas-docs/stable/user_guide/indexing.html#returning-a-view-versus-a-copy\n",
      "  public_data_totals.rename(columns={\n",
      "C:\\Users\\skrbj\\AppData\\Local\\Temp\\ipykernel_27080\\3761037193.py:31: SettingWithCopyWarning: \n",
      "A value is trying to be set on a copy of a slice from a DataFrame\n",
      "\n",
      "See the caveats in the documentation: https://pandas.pydata.org/pandas-docs/stable/user_guide/indexing.html#returning-a-view-versus-a-copy\n",
      "  public_data_totals.rename(index={'E-votes':'electronic','Total_row':'count', 'Paper':'paper'}, inplace=True)\n"
     ]
    }
   ],
   "source": [
    "private_totals = private_data['party'].value_counts()\n",
    "\n",
    "# Get the total amount of votes\n",
    "public_data_totals = public_data_results.tail(2)\n",
    "\n",
    "# Rename the index to match the private data\n",
    "public_data_totals.set_index('Unnamed: 0', inplace=True)\n",
    "\n",
    "\n",
    "\n",
    "\n",
    "\n",
    "\n",
    "# Calculate the amount of paper votes\n",
    "public_data_totals.loc['Paper'] = public_data_totals.loc['Total_row'].apply(int) - public_data_totals.loc['E-votes'].apply(int)\n",
    "\n",
    "# Ensure private_totals is a DataFrame and transpose it to match the public data\n",
    "private_totals = private_totals.to_frame().transpose()\n",
    "\n",
    "print(private_totals)\n",
    "print('\\n')\n",
    "\n",
    "\n",
    "\n",
    "\n",
    "public_data_totals.rename(columns={\n",
    "\n",
    "    'Invalid ballots': 'Invalid vote'\n",
    "}, inplace=True)\n",
    "\n",
    "public_data_totals.rename(index={'E-votes':'electronic','Total_row':'count', 'Paper':'paper'}, inplace=True)\n",
    "\n",
    "# Drop the 'Unnamed: 0' row when reading the data\n",
    "#public_data_totals.drop(index='Unnamed: 0')\n",
    "\n",
    "# Rename the index to match the private data\n",
    "#public_data_totals.index = ['electronic','count', 'paper']\n",
    "\n",
    "print(public_data_totals)\n",
    "print('\\n')\n",
    "print(public_data_totals.index)"
   ]
  },
  {
   "cell_type": "code",
   "execution_count": 97,
   "metadata": {},
   "outputs": [
    {
     "name": "stdout",
     "output_type": "stream",
     "text": [
      "           Green Red Invalid vote Total\n",
      "paper         78  54            1   133\n",
      "electronic    43  21            3    67\n",
      "count        121  75            4   200\n"
     ]
    }
   ],
   "source": [
    "# Initialize the private_totals DataFrame with party names\n",
    "private_totals = pd.DataFrame(index=['paper', 'electronic'], columns=['Green', 'Red', 'Invalid vote'])\n",
    "\n",
    "# Calculate counts for electronic votes (evote == 1)\n",
    "for party in ['Green', 'Red', 'Invalid vote']:\n",
    "    private_totals.loc['electronic', party] = private_data.loc[(private_data['evote'] == 1) & (private_data['party'] == party), 'party'].count()\n",
    "\n",
    "# Calculate counts for paper votes (evote == 0)\n",
    "for party in ['Green', 'Red', 'Invalid vote']:\n",
    "    private_totals.loc['paper', party] = private_data.loc[(private_data['evote'] == 0) & (private_data['party'] == party), 'party'].count()\n",
    "\n",
    "# Add a count row for totals\n",
    "private_totals.loc['count'] = private_totals.sum()\n",
    "\n",
    "# Add a total row for each party\n",
    "private_totals['Total'] = private_totals.sum(axis=1)\n",
    "\n",
    "# Display the resulting DataFrame\n",
    "print(private_totals)"
   ]
  },
  {
   "cell_type": "markdown",
   "metadata": {},
   "source": [
    "\n",
    "3. Choose a Statistical Test\n",
    "\n",
    "Since you’re comparing categorical data (party preference distributions), a Chi-Square test of independence is a good option.\n",
    "Chi-Square Test: This test will help you see if there are statistically significant differences in political preferences between:\n",
    "Survey vs. Electronic Votes\n",
    "Survey vs. Polling Station Votes\n",
    "Each of these comparisons will show if the preferences in the survey align with the actual votes or if there are notable differences.\n"
   ]
  },
  {
   "cell_type": "code",
   "execution_count": 101,
   "metadata": {},
   "outputs": [
    {
     "name": "stdout",
     "output_type": "stream",
     "text": [
      "Chi-Square Statistic: 6.360299944406317\n",
      "P-Value: 0.3840618947439205\n",
      "Degrees of Freedom: 6\n",
      "Expected Frequencies:\n",
      "[[ 80.81148867  49.60598706   2.58252427]\n",
      " [ 40.70954693  24.9894822    1.30097087]\n",
      " [439.29854369 269.66262136  14.03883495]\n",
      " [190.18042071 116.74190939   6.0776699 ]]\n",
      "\n",
      "\n",
      "T-Test for Green:\n",
      "T-Statistic: -2.1694171309207846\n",
      "P-Value: 0.16227922122515373\n",
      "\n",
      "T-Test for Red:\n",
      "T-Statistic: -1.7757517924317536\n",
      "P-Value: 0.2177604255759461\n",
      "\n",
      "T-Test for Invalid vote:\n",
      "T-Statistic: -2.5298221281347035\n",
      "P-Value: 0.12712843905603044\n",
      "\n"
     ]
    }
   ],
   "source": [
    "from scipy.stats import chi2_contingency\n",
    "from scipy.stats import ttest_ind\n",
    "\n",
    "# Create a contingency table for the Chi-Square test\n",
    "contingency_table = pd.concat([private_totals.loc[['paper', 'electronic'], ['Green', 'Red', 'Invalid vote']],\n",
    "                               public_data_totals.loc[['paper', 'electronic'], ['Green', 'Red', 'Invalid vote']]])\n",
    "\n",
    "# Perform the Chi-Square test\n",
    "chi2, p, dof, expected = chi2_contingency(contingency_table)\n",
    "\n",
    "# Print the results\n",
    "print(f\"Chi-Square Statistic: {chi2}\")\n",
    "print(f\"P-Value: {p}\")\n",
    "print(f\"Degrees of Freedom: {dof}\")\n",
    "print(\"Expected Frequencies:\")\n",
    "print(expected)\n",
    "print('\\n')\n",
    "\n",
    "# Perform t-test for each party\n",
    "for party in ['Green', 'Red', 'Invalid vote']:\n",
    "    t_stat, p_val = ttest_ind(private_totals.loc[['paper', 'electronic'], party].astype(int),\n",
    "                              public_data_totals.loc[['paper', 'electronic'], party].astype(int))\n",
    "    print(f\"T-Test for {party}:\")\n",
    "    print(f\"T-Statistic: {t_stat}\")\n",
    "    print(f\"P-Value: {p_val}\\n\")"
   ]
  },
  {
   "cell_type": "markdown",
   "metadata": {},
   "source": [
    "\n",
    "\n",
    "4. Interpret the Results\n",
    "\n",
    "If the p-value from your Chi-Square test is less than 0.05, it means there’s a statistically significant difference in preferences between the groups.\n",
    "If there’s a significant difference, it could indicate a possible manipulation or other factors influencing the results."
   ]
  },
  {
   "cell_type": "markdown",
   "metadata": {},
   "source": [
    "### Interpretation of Results\n",
    "\n",
    "#### Chi-Square Test\n",
    "The Chi-Square test was performed to determine if there are statistically significant differences in political preferences between the survey data and the election results.\n",
    "\n",
    "- **Chi-Square Statistic**: 6.3603\n",
    "- **Degrees of Freedom (dof)**: 6\n",
    "- **P-Value**: 0.3841\n",
    "\n",
    "Since the p-value (0.3841) is greater than the significance level of 0.05, we fail to reject the null hypothesis. This indicates that there is no statistically significant difference in political preferences between the survey data and the election results.\n",
    "\n",
    "#### T-Test\n",
    "T-tests were conducted for each party to compare the means of the survey data and the election results.\n",
    "\n",
    "- **Green Party**: \n",
    "    - T-Statistic: -2.5298\n",
    "    - P-Value: 0.1271\n",
    "- **Red Party**: \n",
    "    - T-Statistic: -1.7757517924317536\n",
    "    - P-Value: 0.2177604255759461\n",
    "- **Invalid Vote**: \n",
    "    - T-Statistic: -2.5298221281347035\n",
    "    - P-Value: 0.12712843905603044\n",
    "\n",
    "For the Green Party, the p-value (0.1271) is greater than the significance level of 0.05, indicating no statistically significant difference between the survey data and the election results for this party. The results for the Red Party and Invalid Vote were not provided, but similar interpretations would apply based on their respective p-values.\n",
    "\n",
    "#### Conclusion\n",
    "Overall, the statistical tests suggest that there are no significant differences in political preferences between the survey data and the election results. This implies that the survey data aligns well with the actual votes, and there are no notable discrepancies that would indicate manipulation or other influencing factors.\n",
    "```"
   ]
  }
 ],
 "metadata": {
  "kernelspec": {
   "display_name": "Python 3",
   "language": "python",
   "name": "python3"
  },
  "language_info": {
   "codemirror_mode": {
    "name": "ipython",
    "version": 3
   },
   "file_extension": ".py",
   "mimetype": "text/x-python",
   "name": "python",
   "nbconvert_exporter": "python",
   "pygments_lexer": "ipython3",
   "version": "3.11.9"
  }
 },
 "nbformat": 4,
 "nbformat_minor": 2
}
