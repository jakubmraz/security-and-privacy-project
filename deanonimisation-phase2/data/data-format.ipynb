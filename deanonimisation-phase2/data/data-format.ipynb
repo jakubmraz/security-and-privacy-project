{
 "cells": [
  {
   "cell_type": "markdown",
   "metadata": {},
   "source": [
    "The adversarial attack begins"
   ]
  },
  {
   "cell_type": "markdown",
   "metadata": {},
   "source": [
    "In order to do any kind of deanonimizaiton, we would want to match the public registry data lines with the anonimized data lines. We know the names of all the people in anonymized dataset (the survey records were leaked). We want to match those names to learn the politcal preference of these people."
   ]
  },
  {
   "cell_type": "markdown",
   "metadata": {},
   "source": [
    "Let's first replicate other groups variable transformation (or how I like to call it categorization), so that our data format is the same, and we can actually try matching the data on same properties. "
   ]
  },
  {
   "cell_type": "code",
   "execution_count": null,
   "metadata": {
    "vscode": {
     "languageId": "plaintext"
    }
   },
   "outputs": [],
   "source": []
  }
 ],
 "metadata": {
  "language_info": {
   "name": "python"
  }
 },
 "nbformat": 4,
 "nbformat_minor": 2
}
