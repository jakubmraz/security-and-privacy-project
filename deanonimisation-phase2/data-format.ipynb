{
 "cells": [
  {
   "cell_type": "markdown",
   "metadata": {},
   "source": [
    "The adversarial attack begins"
   ]
  },
  {
   "cell_type": "markdown",
   "metadata": {},
   "source": [
    "In order to do any kind of deanonimizaiton, we would want to match the public registry data lines with the anonimized data lines. We know the names of all the people in anonymized dataset (the survey records were leaked). We want to match those names to learn the politcal preference of these people."
   ]
  },
  {
   "cell_type": "markdown",
   "metadata": {},
   "source": [
    "Let's first replicate other groups variable transformation (or how I like to call it categorization), so that our data format is the same, and we can actually try matching the data on same properties. "
   ]
  },
  {
   "cell_type": "code",
   "execution_count": null,
   "metadata": {},
   "outputs": [
    {
     "ename": "SyntaxError",
     "evalue": "unmatched ')' (3080009343.py, line 28)",
     "output_type": "error",
     "traceback": [
      "\u001b[1;36m  Cell \u001b[1;32mIn[3], line 28\u001b[1;36m\u001b[0m\n\u001b[1;33m    )\u001b[0m\n\u001b[1;37m    ^\u001b[0m\n\u001b[1;31mSyntaxError\u001b[0m\u001b[1;31m:\u001b[0m unmatched ')'\n"
     ]
    }
   ],
   "source": [
    "import pandas as pd\n",
    "\n",
    "PATH = r\"data/new/filtered_private_dataZ.xlsx\"\n",
    "NEW = r\"data/new/variable_adjusted_filtered_private_data_Z.xlsx\"\n",
    "\n",
    "# Load the Excel sheet into a DataFrame\n",
    "df = pd.read_excel(PATH, sheet_name='Sheet 1')\n",
    "\n",
    "# Track the number of changes for each operation\n",
    "#citizenship_changes = (df['citizenship'] != \"Denmark\").sum()\n",
    "\n",
    "# Replace non-Denmark citizenships with \"Foreign\"\n",
    "df['citizenship'] = df['citizenship'].apply(lambda x: \"Foreign\" if x != \"Denmark\" else x)\n",
    "\n",
    "# Log the number of rows modified for citizenship\n",
    "#print(f\"{citizenship_changes} rows were modified for citizenship\")\n",
    "\n",
    "# Track changes for education\n",
    "original_education = df['education'].copy()\n",
    "df['education'] = df['education'].apply(\n",
    "\n",
    "    # 'Non stated' transformation not specified in their report. What are we suppossed to do with this?\n",
    "\n",
    "    # Their encoded string names contained punctuation marks, which is a big technical mistake.\n",
    "\n",
    "    lambda x: \"High school or lower\" if x in [\"Primary education\", \"Vocational Education and Training (VET)\", \"Upper secondary education\"] if x in [\"Bachelors programmes\", \"Short cycle higher education\", \"Masters programmes\", \"PhD programmes\"] \n",
    "    )\n",
    "\n"
   ]
  },
  {
   "cell_type": "code",
   "execution_count": null,
   "metadata": {},
   "outputs": [],
   "source": []
  }
 ],
 "metadata": {
  "kernelspec": {
   "display_name": "Python 3",
   "language": "python",
   "name": "python3"
  },
  "language_info": {
   "codemirror_mode": {
    "name": "ipython",
    "version": 3
   },
   "file_extension": ".py",
   "mimetype": "text/x-python",
   "name": "python",
   "nbconvert_exporter": "python",
   "pygments_lexer": "ipython3",
   "version": "3.11.9"
  }
 },
 "nbformat": 4,
 "nbformat_minor": 2
}
