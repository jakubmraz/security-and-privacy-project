{
 "cells": [
  {
   "cell_type": "markdown",
   "metadata": {},
   "source": [
    "The adversarial attack begins"
   ]
  },
  {
   "cell_type": "markdown",
   "metadata": {},
   "source": [
    "In order to do any kind of deanonimizaiton, we would want to match the public registry data lines with the anonimized data lines. We know the names of all the people in anonymized dataset (the survey records were leaked). We want to match those names to learn the politcal preference of these people."
   ]
  },
  {
   "cell_type": "markdown",
   "metadata": {},
   "source": [
    "Let's first replicate other groups variable transformation (or how I like to call it categorization), so that our data format is the same, and we can actually try matching the data on same properties. "
   ]
  },
  {
   "cell_type": "code",
   "execution_count": 24,
   "metadata": {},
   "outputs": [
    {
     "name": "stdout",
     "output_type": "stream",
     "text": [
      "                   name  age age_group\n",
      "0            Lee, Allen   21     20-40\n",
      "1       Bhagria, Pranav   22     20-40\n",
      "2        Mills, Brandon   21     20-40\n",
      "3            Crow, Chad   22     20-40\n",
      "4           Lopez, Jose   22     20-40\n",
      "..                  ...  ...       ...\n",
      "195  Verhoeven, Santana   86       60+\n",
      "196         Ware, Aaron   73       60+\n",
      "197     Harris, Dchelle   64       60+\n",
      "198          Sar, Dylan   70       60+\n",
      "199        Yellow, Adam   51     40-60\n",
      "\n",
      "[200 rows x 3 columns]\n"
     ]
    }
   ],
   "source": [
    "import pandas as pd\n",
    "from datetime import datetime\n",
    "\n",
    "PATH = r\"data/new/filtered_data_registerZ.xlsx\"\n",
    "NEW = r\"data/new/variable_adjusted_filtered_data_registerZ.xlsx\"\n",
    "\n",
    "# Load the Excel sheet into a DataFrame\n",
    "df = pd.read_excel(PATH, sheet_name='Sheet1')\n",
    "\n",
    "# Track the number of changes for each operation\n",
    "#citizenship_changes = (df['citizenship'] != \"Denmark\").sum()\n",
    "\n",
    "# Replace non-Denmark citizenships with \"Foreign\"\n",
    "df['citizenship'] = df['citizenship'].apply(lambda x: \"Foreign\" if x != \"Denmark\" else x)\n",
    "\n",
    "# Log the number of rows modified for citizenship\n",
    "#print(f\"{citizenship_changes} rows were modified for citizenship\")\n",
    "\n",
    "\n",
    "# Ensure the 'dob' column is a datetime object (if not, convert it)\n",
    "if not pd.api.types.is_datetime64_any_dtype(df['dob']):\n",
    "    df['dob'] = pd.to_datetime(df['dob'], errors='coerce')\n",
    "\n",
    "# Transform dob column to age\n",
    "df['dob'] = pd.to_datetime(df['dob'])\n",
    "df['age'] = df['dob'].apply(lambda x: datetime.now().year - x.year)\n",
    "\n",
    "# Ensure the 'dob' column is formatted as date only (no time part)\n",
    "df['dob'] = df['dob'].dt.date\n",
    "\n",
    "# Define the bins and labels for age groups\n",
    "bins = [20, 40, 60, 100]\n",
    "labels = ['20-40', '40-60', '60+']\n",
    "\n",
    "# Create a new column 'age_group' based on the defined bins\n",
    "df['age_group'] = pd.cut(df['age'], bins=bins, labels=labels, right=False)\n",
    "\n",
    "# Display the updated DataFrame\n",
    "print(df[['name', 'age', 'age_group']])\n"
   ]
  },
  {
   "cell_type": "code",
   "execution_count": 25,
   "metadata": {},
   "outputs": [],
   "source": [
    "df['marital_status'] = df['marital_status'].apply(\n",
    "    lambda x: \"Not married\" if x in [\"Divorced\", \"Widowed\", \"Never married\"] else \"Married/separate\"\n",
    "    )\n",
    "\n",
    "df.drop(columns=['last_voted', 'age', 'dob', 'zip'], inplace=True)"
   ]
  },
  {
   "cell_type": "code",
   "execution_count": 26,
   "metadata": {},
   "outputs": [],
   "source": [
    "# Save to xlsx file hehe 😈\n",
    "\n",
    "df.to_excel(NEW, index=False)"
   ]
  },
  {
   "cell_type": "code",
   "execution_count": null,
   "metadata": {},
   "outputs": [],
   "source": []
  },
  {
   "cell_type": "code",
   "execution_count": null,
   "metadata": {},
   "outputs": [],
   "source": []
  },
  {
   "cell_type": "code",
   "execution_count": null,
   "metadata": {},
   "outputs": [],
   "source": []
  }
 ],
 "metadata": {
  "kernelspec": {
   "display_name": "Python 3",
   "language": "python",
   "name": "python3"
  },
  "language_info": {
   "codemirror_mode": {
    "name": "ipython",
    "version": 3
   },
   "file_extension": ".py",
   "mimetype": "text/x-python",
   "name": "python",
   "nbconvert_exporter": "python",
   "pygments_lexer": "ipython3",
   "version": "3.11.9"
  }
 },
 "nbformat": 4,
 "nbformat_minor": 2
}
